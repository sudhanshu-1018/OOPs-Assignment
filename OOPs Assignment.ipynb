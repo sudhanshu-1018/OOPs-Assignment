{
 "cells": [
  {
   "cell_type": "code",
   "execution_count": null,
   "id": "51c58260-1963-4f6b-bc6c-264b6e5ddc0f",
   "metadata": {},
   "outputs": [],
   "source": [
    "#                                     Python OOPs Questions"
   ]
  },
  {
   "cell_type": "code",
   "execution_count": null,
   "id": "a0833dad-c18c-4f54-9baa-6d8df79e7929",
   "metadata": {},
   "outputs": [],
   "source": [
    "\"\"\"\n",
    "1. What is Object-Oriented Programming (OOP)?\n",
    "   - OOP is a Object-Oriented Programming based on the concept of \"objects\", which can contain data and methods to manipulate that data.\n",
    "\n",
    "2. What is a class in OOP?\n",
    "   - A class is a blueprint for creating objects. It defines a set of attributes and methods that the created objects can use.\n",
    "\n",
    "3. What is an object in OOP?\n",
    "   - An object is an instance of a class. It contains real values instead of variables.\n",
    "\n",
    "4. What is the difference between abstraction and encapsulation?\n",
    "   - Abstraction hides complex implementation details and shows only the necessary features.\n",
    "   - Encapsulation binds data and methods into a single unit (class) and restricts access to some components.\n",
    "\n",
    "5. What are dunder methods in Python?\n",
    "   - Dunder methods, also known as magic methods, have double underscores before and after their names (e.g., '__init__', '__str__') and provide special behavior to classes.\n",
    "\n",
    "6. Explain the concept of inheritance in OOP.\n",
    "   - Inheritance allows a class to inherit attributes and methods from another class, promoting code reuse.\n",
    "\n",
    "7. What is polymorphism in OOP?\n",
    "   - Polymorphism allows objects of different classes to be treated as objects of a common superclass.\n",
    "\n",
    "8. How is encapsulation achieved in Python?\n",
    "   - Encapsulation in Python is achieved using private ('__') and protected ('_') access specifiers to restrict access to class members.\n",
    "\n",
    "9. What is a constructor in Python?\n",
    "   - A constructor is a special method '__init__' used to initialize objects when they are created.\n",
    "\n",
    "10. What are class and static methods in Python?\n",
    "    - Class Methods: Defined with the '@classmethod' decorator and take 'cls' as a parameter.\n",
    "    - Static Methods: Defined with the '@staticmethod' decorator and do not take 'self' or 'cls' as a parameter.\n",
    "\n",
    "11. What is method overloading in Python?\n",
    "    - Python does not support method overloading directly. Similar behavior can be achieved using default arguments or variable-length arguments.\n",
    "\n",
    "12. What is method overriding in OOP?\n",
    "    - Method overriding occurs when a child class method has the same name as a method in the parent class, allowing the child class to provide a specific implementation.\n",
    "\n",
    "13. What is a property decorator in Python?\n",
    "    - The '@property' decorator is used to define getter, setter, and deleter methods for class attributes.\n",
    "\n",
    "14. Why is polymorphism important in OOP?\n",
    "    - Polymorphism allow different objects to be accessed through the same interface, promoting code reuse.\n",
    "\n",
    "15. What is an abstract class in Python?\n",
    "    - An abstract class is a class that cannot be instantiated and often contains abstract methods that must be implemented by subclasses.\n",
    "\n",
    "16. What are the advantages of OOP?\n",
    "    - Advantages include modularity, reusability, flexibility, and maintainability of code.\n",
    "\n",
    "17. What is the difference between a class variable and an instance variable?\n",
    "    - Class Variable: Shared among all instances of the class.\n",
    "    - Instance Variable: Unique to each instance.\n",
    "\n",
    "18. What is multiple inheritance in Python?\n",
    "    - Multiple inheritance allows a class to inherit attributes and methods from more than one parent class.\n",
    "\n",
    "19. Explain the purpose of '__str__' and '__repr__' methods in Python.\n",
    "    - '__str__': Returns a user-friendly string representation of an object.\n",
    "    - '__repr__': Returns an official string representation of an object, primarily for debugging.\n",
    "\n",
    "20. What is the significance of the 'super()' function in Python?\n",
    "    - The 'super()' function is used to call a method from the parent class, allowing access to inherited methods.\n",
    "\n",
    "21. What is the significance of the '__del__' method in Python?\n",
    "    - The '__del__' method is a special method called when an object is deleted, used for cleanup operations.\n",
    "\n",
    "22. What is the difference between '@staticmethod' and '@classmethod' in Python?\n",
    "    -'@staticmethod': Does not take 'self' or 'cls' as a parameter.\n",
    "    - '@classmethod': Takes 'cls' as a parameter and can modify class state.\n",
    "\n",
    "23. How does polymorphism work in Python with inheritance?\n",
    "    - Polymorphism with inheritance allows methods in derived classes to override methods in base classes, enabling different implementations.\n",
    "\n",
    "24. What is method chaining in Python OOP?\n",
    "    - Method chaining involves calling multiple methods in a single line of code, typically by returning 'self' from methods.\n",
    "\n",
    "25. What is the purpose of the '__call__' method in Python?\n",
    "    - The '__call__' method allows an object to be called as a function, enabling objects to behave like callable functions.\n",
    "\n",
    "\"\"\"\n"
   ]
  },
  {
   "cell_type": "code",
   "execution_count": null,
   "id": "875a9a56-c95a-4918-a6ac-3abda2aaf438",
   "metadata": {},
   "outputs": [],
   "source": [
    "#                                             Practical Questions"
   ]
  },
  {
   "cell_type": "code",
   "execution_count": null,
   "id": "3c7021ab-d349-4b9c-87c2-f5e38bca71bf",
   "metadata": {},
   "outputs": [],
   "source": [
    "# 1. Create a parent class Animal with a method speak() that prints a generic message. Create a child class Dog that overrides the speak() method to print \"Bark!\".\n"
   ]
  },
  {
   "cell_type": "code",
   "execution_count": 1,
   "id": "c76603de-5330-49a0-af87-c51a5d2be1aa",
   "metadata": {},
   "outputs": [
    {
     "name": "stdout",
     "output_type": "stream",
     "text": [
      "Bark!\n"
     ]
    }
   ],
   "source": [
    "class Animal:\n",
    "    def speak(self):\n",
    "        print(\"Animal have their language\")\n",
    "class Dog(Animal):\n",
    "    def speak(self):\n",
    "        print(\"Bark!\")\n",
    "\n",
    "lan=Dog()\n",
    "lan.speak()"
   ]
  },
  {
   "cell_type": "code",
   "execution_count": null,
   "id": "2aaf2e5a-440e-4aef-a61e-48fe64a70e37",
   "metadata": {},
   "outputs": [],
   "source": [
    "# 2. Write a program to create an abstract class Shape with a method area(). Derive classes Circle and Rectangle from it and implement the area() method in both.\n"
   ]
  },
  {
   "cell_type": "code",
   "execution_count": 95,
   "id": "4c60e6fd-8dc5-4c7c-aef0-670537833adc",
   "metadata": {},
   "outputs": [
    {
     "name": "stdout",
     "output_type": "stream",
     "text": [
      "78.5\n",
      "50\n"
     ]
    }
   ],
   "source": [
    "import abc\n",
    "\n",
    "class Shape:\n",
    "    @abc.abstractmethod\n",
    "    def area(self):\n",
    "        pass\n",
    "\n",
    "class Circle(Shape):\n",
    "    def __init__(self, radius):\n",
    "        self.radius = radius\n",
    "\n",
    "    def area(self):\n",
    "        return 3.14 * self.radius * self.radius\n",
    "\n",
    "class Rectangle(Shape):\n",
    "    def __init__(self, length, breadth):\n",
    "        self.length = length\n",
    "        self.breadth = breadth\n",
    "\n",
    "    def area(self):\n",
    "        return self.length * self.breadth\n",
    "\n",
    "# Example usage:\n",
    "circle = Circle(5)\n",
    "rectangle = Rectangle(10, 5)\n",
    "print(circle.area())\n",
    "print(rectangle.area())"
   ]
  },
  {
   "cell_type": "code",
   "execution_count": null,
   "id": "fd56ba52-365e-4a05-8b41-5b171ef503ee",
   "metadata": {},
   "outputs": [],
   "source": [
    "# 3. Implement a multi-level inheritance scenario where a class Vehicle has an attribute type. Derive a class Car and further derive a class ElectricCar that adds a battery attribute.\n"
   ]
  },
  {
   "cell_type": "code",
   "execution_count": 17,
   "id": "852c8fe2-c454-45ba-b5c3-6ad72d0aaf8b",
   "metadata": {},
   "outputs": [
    {
     "name": "stdout",
     "output_type": "stream",
     "text": [
      "Battery!\n"
     ]
    }
   ],
   "source": [
    "class Vehicle:\n",
    "    def color(self):\n",
    "        print(\"Neavy Blue\")\n",
    "class Car(Vehicle):\n",
    "    def Model(self):\n",
    "        print(\"TATA Nexon\")\n",
    "class ElectricCAr(Car):\n",
    "    def Battery(self):\n",
    "        print(\"Battery!\")\n",
    "El=ElectricCAr()\n",
    "El.Battery()\n",
    "El.color()\n",
    "El.Model()"
   ]
  },
  {
   "cell_type": "code",
   "execution_count": null,
   "id": "91b7aaa4-1a96-413e-a5e5-3d3759a2c78f",
   "metadata": {},
   "outputs": [],
   "source": [
    "# 4. Implement a multi-level inheritance scenario where a class Vehicle has an attribute type. Derive a class Car and further derive a class ElectricCar that adds a battery attribute.\n"
   ]
  },
  {
   "cell_type": "code",
   "execution_count": 66,
   "id": "942209a5-a2bd-4a18-bb80-3e48e3507642",
   "metadata": {},
   "outputs": [
    {
     "name": "stdout",
     "output_type": "stream",
     "text": [
      "Battery!\n",
      "Neavy Blue\n",
      "TATA Nexon\n"
     ]
    }
   ],
   "source": [
    "class Vehicle:\n",
    "    def color(self):\n",
    "        print(\"Neavy Blue\")\n",
    "class Car(Vehicle):\n",
    "    def Model(self):\n",
    "        print(\"TATA Nexon\")\n",
    "class ElectricCAr(Car):\n",
    "    def Battery(self):\n",
    "        print(\"Battery!\")\n",
    "El=ElectricCAr()\n",
    "El.Battery()\n",
    "El.color()\n",
    "El.Model()"
   ]
  },
  {
   "cell_type": "code",
   "execution_count": null,
   "id": "4e8c61ea-2e68-421c-aaba-d17086d6710d",
   "metadata": {},
   "outputs": [],
   "source": [
    "# 5. Write a program to demonstrate encapsulation by creating a class BankAccount with private attributes balance and methods to deposit, withdraw, and check balance.\n"
   ]
  },
  {
   "cell_type": "code",
   "execution_count": 63,
   "id": "4a743d50-5311-4abf-93af-336341785784",
   "metadata": {},
   "outputs": [
    {
     "name": "stdout",
     "output_type": "stream",
     "text": [
      "Balance Amount  0\n",
      "Deposit Successfully Amount- 1000\n",
      "Balance Amount  1000\n",
      "Failed! due to Insufficient Balance\n",
      "Balance Amount  1000\n"
     ]
    }
   ],
   "source": [
    "class BankAccount:\n",
    "    __balance=0\n",
    "    def deposit(self,Amount):\n",
    "        BankAccount.__balance=BankAccount.__balance+Amount\n",
    "        print(\"Deposit Successfully Amount-\",Amount)\n",
    "    def Withdraw(self,Amount):\n",
    "        if BankAccount.__balance>=Amount:\n",
    "            BankAccount.__balance=BankAccount.__balance-Amount\n",
    "            print(\"Withdraw Successfully Amount-\",Amount)\n",
    "        else:\n",
    "            print(\"Failed! due to Insufficient Balance\")\n",
    "    @property\n",
    "    def check_balance(self):\n",
    "        print(\"Balance Amount \",BankAccount.__balance)\n",
    "\n",
    "Bank=BankAccount()\n",
    "Bank.check_balance\n",
    "Bank.deposit(1000)\n",
    "Bank.check_balance        \n",
    "Bank.Withdraw(1500)    \n",
    "Bank.check_balance "
   ]
  },
  {
   "cell_type": "code",
   "execution_count": 59,
   "id": "49c2e77e-0f2a-4223-ae93-706f6e751d0b",
   "metadata": {},
   "outputs": [
    {
     "name": "stdout",
     "output_type": "stream",
     "text": [
      "Balance Amount 0\n",
      "Deposit Successfully Amount- 1000\n",
      "Balance Amount 1000\n",
      "Withdraw Successfully Amount- 400\n",
      "Balance Amount 600\n"
     ]
    }
   ],
   "source": [
    "class Bank_Account:\n",
    "    def __init__(self):\n",
    "        self.__balance=0\n",
    "    def deposit(self,Amount):\n",
    "        self.__balance=self.__balance+Amount\n",
    "        print(\"Deposit Successfully Amount-\",Amount)\n",
    "    def Withdraw(self,Amount):\n",
    "        if self.__balance>=Amount:\n",
    "            self.__balance=self.__balance-Amount\n",
    "            print(\"Withdraw Successfully Amount-\",Amount)\n",
    "        else:\n",
    "            print(\"Failed! due to Insufficient Balance\")\n",
    "    @property\n",
    "    def check_balance(self):\n",
    "        print(\"Balance Amount\",self.__balance)\n",
    "\n",
    "Bank1=Bank_Account()\n",
    "Bank1.check_balance\n",
    "Bank1.deposit(1000)\n",
    "Bank1.check_balance\n",
    "Bank1.Withdraw(400)\n",
    "Bank1.check_balance\n",
    "\n",
    "    "
   ]
  },
  {
   "cell_type": "code",
   "execution_count": null,
   "id": "339b251f-ad2b-485a-99d3-dce6f587eb96",
   "metadata": {},
   "outputs": [],
   "source": [
    "# 6. Demonstrate runtime polymorphism using a method play() in a base class Instrument. Derive classes Guitar and Piano that implement their own version of play().\n"
   ]
  },
  {
   "cell_type": "code",
   "execution_count": 72,
   "id": "946f8726-6be1-4b0b-a08a-9d57666f6760",
   "metadata": {},
   "outputs": [
    {
     "name": "stdout",
     "output_type": "stream",
     "text": [
      "play piano\n"
     ]
    }
   ],
   "source": [
    "class Instrument:\n",
    "    def play(self):\n",
    "        print(\"play Musical Instrument\")\n",
    "class Guitar(Instrument):\n",
    "    def play(self):\n",
    "        print(\"play guitar\")\n",
    "class Piano(Instrument):\n",
    "    def play(self):\n",
    "        print(\"play piano\")\n",
    "\n",
    "p=Piano()\n",
    "p.play()"
   ]
  },
  {
   "cell_type": "code",
   "execution_count": null,
   "id": "ae1ac3c6-dc80-400c-b6b0-093f96c84c44",
   "metadata": {},
   "outputs": [],
   "source": [
    "# 7. Create a class MathOperations with a class method add_numbers() to add two numbers and a static method subtract_numbers() to subtract two numbers.\n"
   ]
  },
  {
   "cell_type": "code",
   "execution_count": 73,
   "id": "f187e583-6267-44d5-9a6d-8a42ec1b515e",
   "metadata": {},
   "outputs": [
    {
     "name": "stdout",
     "output_type": "stream",
     "text": [
      "11\n",
      "-1\n"
     ]
    }
   ],
   "source": [
    "class MathOperations:\n",
    "    @classmethod\n",
    "    def add_numbers(cls,x,y):\n",
    "        print(x+y)\n",
    "    @staticmethod\n",
    "    def subtract_numbers(x,y):\n",
    "        print(x-y)\n",
    "\n",
    "MathOperations.add_numbers(5,6)\n",
    "MathOperations.subtract_numbers(5,6)"
   ]
  },
  {
   "cell_type": "code",
   "execution_count": 125,
   "id": "cf360074-d754-4e50-ab9b-67d0cadb9e13",
   "metadata": {},
   "outputs": [
    {
     "name": "stdout",
     "output_type": "stream",
     "text": [
      "3\n",
      "3\n"
     ]
    }
   ],
   "source": [
    "# 8. Implement a class Person with a class method to count the total number of persons created.\n",
    "class Person:\n",
    "    count=0\n",
    "    def __init__(self):\n",
    "        Person.count+=1\n",
    "    @classmethod\n",
    "    def Total_person(cls):\n",
    "        return cls.count\n",
    "\n",
    "a=Person()\n",
    "b=Person()\n",
    "c=Person()\n",
    "\n",
    "print(Person.count)     #Count by using __init__\n",
    "print(Person.Total_person()) #Count by using @classmethod"
   ]
  },
  {
   "cell_type": "code",
   "execution_count": null,
   "id": "aed6b232-818d-4f90-b4e1-5341b04f8ccd",
   "metadata": {},
   "outputs": [],
   "source": [
    "# 9. Write a class Fraction with attributes numerator and denominator. Override the str method to display the fraction as \"numerator/denominator\".\n"
   ]
  },
  {
   "cell_type": "code",
   "execution_count": 11,
   "id": "51030c6e-654c-4628-bd21-b0b37565baa1",
   "metadata": {},
   "outputs": [
    {
     "name": "stdout",
     "output_type": "stream",
     "text": [
      "3/4\n"
     ]
    }
   ],
   "source": [
    "class Fraction:\n",
    "    def __init__(self,numerator,denominator):\n",
    "        self.numerator=numerator\n",
    "        self.denominator=denominator\n",
    "    def __str__(self):\n",
    "        return f\"{self.numerator}/{self.denominator}\"\n",
    "\n",
    "f=Fraction(3,4)\n",
    "print(f)"
   ]
  },
  {
   "cell_type": "code",
   "execution_count": null,
   "id": "3fc346a7-21bf-4d1e-87c1-f219fe8ab8e2",
   "metadata": {},
   "outputs": [],
   "source": [
    "# 10. Demonstrate operator overloading by creating a class Vector and overriding the add method to add two vectors.\n"
   ]
  },
  {
   "cell_type": "code",
   "execution_count": 45,
   "id": "f8718f16-84b3-4522-9824-579bbc8fdb8c",
   "metadata": {},
   "outputs": [
    {
     "name": "stdout",
     "output_type": "stream",
     "text": [
      "15\n",
      "12\n",
      "8\n",
      "9\n"
     ]
    }
   ],
   "source": [
    "class Vector:\n",
    "    def add(self,x=10,y=5):\n",
    "        return x+y\n",
    "class Sector(Vector):\n",
    "    def add(self,x,y):\n",
    "        return x+y\n",
    "\n",
    "v=Vector()\n",
    "print(v.add())\n",
    "print(v.add(7))\n",
    "print(v.add(2,6))\n",
    "\n",
    "s=Sector()\n",
    "print(s.add(5,4))\n",
    "\n",
    "        "
   ]
  },
  {
   "cell_type": "code",
   "execution_count": 29,
   "id": "f6528779-3eb7-4683-b0eb-15fb5c0197c7",
   "metadata": {},
   "outputs": [],
   "source": [
    "# 11. Create a class Person with attributes name and age. Add a method greet() that prints \"Hello, my name is {name} and I am {age} years old.\"\n"
   ]
  },
  {
   "cell_type": "code",
   "execution_count": 49,
   "id": "773243d6-c127-495d-ae1d-61329228be71",
   "metadata": {},
   "outputs": [
    {
     "name": "stdout",
     "output_type": "stream",
     "text": [
      "Hello,my name is rahul and I am 45 years old.\n"
     ]
    }
   ],
   "source": [
    "class Person:\n",
    "    def __init__(self,name,age):\n",
    "        self.name=name\n",
    "        self.age=age\n",
    "    def greet(self):\n",
    "        print(f\"Hello,my name is {self.name} and I am {self.age} years old.\")\n",
    "\n",
    "p=Person(\"rahul\",45)\n",
    "p.greet()"
   ]
  },
  {
   "cell_type": "code",
   "execution_count": null,
   "id": "d7271d4d-bba7-4313-aec5-1c476fb3caf5",
   "metadata": {},
   "outputs": [],
   "source": [
    "# 12. Implement a class Student with attributes name and grades. Create a method average_grade() to compute the average of the grades.\n"
   ]
  },
  {
   "cell_type": "code",
   "execution_count": 71,
   "id": "772abfa2-707c-4445-83c9-4ec8220a2625",
   "metadata": {},
   "outputs": [
    {
     "name": "stdin",
     "output_type": "stream",
     "text": [
      "Write your name:  sudhanhshu kumar singh\n",
      "Write math grade:  4\n",
      "Write physics grade:  5\n",
      "Write chemistry grade:  1\n"
     ]
    },
    {
     "name": "stdout",
     "output_type": "stream",
     "text": [
      "sudhanhshu kumar singh\n",
      "Avg. Grade = 3.3333333333333335\n"
     ]
    }
   ],
   "source": [
    "class Student:\n",
    "    def __init__(self):\n",
    "        self.name = input(\"Write your name: \")\n",
    "        self.grades = {}\n",
    "\n",
    "    def grade(self):\n",
    "        self.grades['math'] = int(input(\"Write math grade: \"))\n",
    "        self.grades['physics'] = int(input(\"Write physics grade: \"))\n",
    "        self.grades['chemistry'] = int(input(\"Write chemistry grade: \"))\n",
    "\n",
    "    def average_grade(self):\n",
    "        print(self.name)\n",
    "        average = sum(self.grades.values()) / len(self.grades)\n",
    "        print(\"Avg. Grade =\", average)\n",
    "\n",
    "s = Student()\n",
    "s.grade()\n",
    "s.average_grade()\n"
   ]
  },
  {
   "cell_type": "code",
   "execution_count": null,
   "id": "bf13427e-166e-4841-a456-01698551e40e",
   "metadata": {},
   "outputs": [],
   "source": [
    "# 13. Create a class Rectangle with methods set_dimensions() to set the dimensions and area() to calculate the area.\\\n"
   ]
  },
  {
   "cell_type": "code",
   "execution_count": 73,
   "id": "b9a5ab42-49bf-499f-986f-376a45c1b6ae",
   "metadata": {},
   "outputs": [
    {
     "name": "stdout",
     "output_type": "stream",
     "text": [
      "The area of the rectangle is: 50\n"
     ]
    }
   ],
   "source": [
    "class Rectangle:\n",
    "    def __init__(self):\n",
    "        self._length = 0\n",
    "        self._breadth = 0\n",
    "\n",
    "    def set_dimensions(self, length, breadth):\n",
    "        self._length = length\n",
    "        self._breadth = breadth\n",
    "\n",
    "    def area(self):\n",
    "        return self._length * self._breadth\n",
    "\n",
    "# Example usage:\n",
    "rect = Rectangle()\n",
    "rect.set_dimensions(10, 5)\n",
    "print(f\"The area of the rectangle is: {rect.area()}\")\n"
   ]
  },
  {
   "cell_type": "code",
   "execution_count": null,
   "id": "cc6b98bc-d97c-41f1-8930-611f219490e2",
   "metadata": {},
   "outputs": [],
   "source": [
    "# 14. Create a class Employee with a method calculate_salary() that computes the salary based on hours worked and hourly rate. Create a derived class Manager that adds a bonus to the salary.\n"
   ]
  },
  {
   "cell_type": "code",
   "execution_count": 64,
   "id": "7e570356-d30e-47cb-8636-39cb5440c6bd",
   "metadata": {},
   "outputs": [
    {
     "name": "stdout",
     "output_type": "stream",
     "text": [
      "salary without bonus:20000\n",
      "bonus is: 1000\n",
      "salary with bonus:21000\n"
     ]
    }
   ],
   "source": [
    "class Employee:\n",
    "    def __init__(self,name,worked_hours,rate_per_hour):\n",
    "        self.name=name\n",
    "        self.worked_hours=worked_hours\n",
    "        self.rate_per_hour=rate_per_hour\n",
    "    def calculate_salary(self):\n",
    "        return self.worked_hours*self.rate_per_hour\n",
    "                \n",
    "class Manager(Employee):\n",
    "    def __init__(self,name,worked_hours,rate_per_hour):\n",
    "        super().__init__(name,worked_hours,rate_per_hour)\n",
    "        self.bonus=0\n",
    "        \n",
    "    def calculate_salary(self):\n",
    "        if self.worked_hours>8:\n",
    "            self.bonus=(self.worked_hours-8)*500\n",
    "            print(\"bonus is:\",self.bonus)\n",
    "        else:\n",
    "            print(\"not eligible for bonus\")\n",
    "        main_salary=super().calculate_salary()\n",
    "        return main_salary+self.bonus\n",
    "\n",
    "employee=Employee(\"sudhanshu\",10,2000)\n",
    "print(f\"salary without bonus:{employee.calculate_salary()}\")\n",
    "manager=Manager(\"sudhanshu\",10,2000)\n",
    "print(f\"salary with bonus:{manager.calculate_salary()}\")\n",
    "        \n",
    "    "
   ]
  },
  {
   "cell_type": "code",
   "execution_count": 62,
   "id": "a3b56832-ed59-439d-ae1b-27f428b465c3",
   "metadata": {},
   "outputs": [],
   "source": [
    "# 15. Create a class Product with attributes name, price, and quantity. Implement a method total_price() that calculates the total price of the product."
   ]
  },
  {
   "cell_type": "code",
   "execution_count": 81,
   "id": "ed991747-824c-4596-8969-e98bb0624e1b",
   "metadata": {},
   "outputs": [
    {
     "name": "stdin",
     "output_type": "stream",
     "text": [
      "product name: chips\n",
      "Each product price in ₹ 5\n",
      "product quantity: 10\n"
     ]
    },
    {
     "data": {
      "text/plain": [
       "50"
      ]
     },
     "execution_count": 81,
     "metadata": {},
     "output_type": "execute_result"
    }
   ],
   "source": [
    "class Product:\n",
    "    def __init__(self):\n",
    "        self.name=input(\"product name:\")\n",
    "        self.price=int(input(\"Each product price in ₹\"))\n",
    "        self.quantity=int(input(\"product quantity:\"))\n",
    "    def total_price(self):\n",
    "        return self.price*self.quantity\n",
    "\n",
    "p=Product()\n",
    "p.total_price()"
   ]
  },
  {
   "cell_type": "code",
   "execution_count": null,
   "id": "3e435979-5ba0-41e6-91c0-19e27aea5d85",
   "metadata": {},
   "outputs": [],
   "source": [
    "# 16. Create a class Animal with an abstract method sound(). Create two derived classes Cow and Sheep that implement the sound() method.\n"
   ]
  },
  {
   "cell_type": "code",
   "execution_count": 83,
   "id": "46283ec2-9d8c-4c0d-b30d-4d8e8f7e0b16",
   "metadata": {},
   "outputs": [
    {
     "data": {
      "text/plain": [
       "'cow sound'"
      ]
     },
     "execution_count": 83,
     "metadata": {},
     "output_type": "execute_result"
    }
   ],
   "source": [
    "import abc\n",
    "class Animal:\n",
    "    @abc.abstractmethod\n",
    "    def sound(self):\n",
    "        pass\n",
    "class cow(Animal):\n",
    "    def sound(self):\n",
    "        return \"cow sound\"\n",
    "class sheep(Animal):\n",
    "    def sound(self):\n",
    "        return \"sheep sound\"\n",
    "\n",
    "c=cow()\n",
    "c.sound()"
   ]
  },
  {
   "cell_type": "code",
   "execution_count": null,
   "id": "f5cabb3a-ca32-4b05-9cf5-073153d635b9",
   "metadata": {},
   "outputs": [],
   "source": [
    "# 17. Create a class Book with attributes title, author, and year _published. Add a method get_book_info() that returns a formatted string with the book's details.\n"
   ]
  },
  {
   "cell_type": "code",
   "execution_count": 9,
   "id": "1f780d15-b627-456e-9ef3-280b8962a85e",
   "metadata": {},
   "outputs": [
    {
     "name": "stdout",
     "output_type": "stream",
     "text": [
      "Book Title->hello world ,Author->tim ,publish year->1964\n"
     ]
    }
   ],
   "source": [
    "class Book:\n",
    "    def __init__(self,title,author,year):\n",
    "        self.title=title\n",
    "        self.author=author\n",
    "        self.year=year\n",
    "    def get_book_info(self):\n",
    "        print(f\"Book Title->{self.title} ,Author->{self.author} ,publish year->{self.year}\")\n",
    "\n",
    "book=Book(\"hello world\",\"tim\",\"1964\")\n",
    "book.get_book_info()"
   ]
  },
  {
   "cell_type": "code",
   "execution_count": null,
   "id": "baf89016-0e80-4ac0-a382-078402f660a6",
   "metadata": {},
   "outputs": [],
   "source": [
    "# 18. Create a class House with attributes address and price. Create a derived class Mansion that adds an attribute number of rooms.\n"
   ]
  },
  {
   "cell_type": "code",
   "execution_count": 17,
   "id": "6e4fcd69-aaa4-43ad-8ac5-b9a1a5848306",
   "metadata": {},
   "outputs": [
    {
     "name": "stdout",
     "output_type": "stream",
     "text": [
      "House Address: 123 Maple St, Price: ₹250000\n",
      "Mansion Address: 456 Oak Dr, Price: ₹1200000, Number of Rooms: 15\n"
     ]
    }
   ],
   "source": [
    "class House:\n",
    "    def __init__(self,Address,price):\n",
    "        self.Address=Address\n",
    "        self.price=price\n",
    "    def get_address(self):\n",
    "        return self.Address\n",
    "    def get_price(self):\n",
    "        return self.price\n",
    "    \n",
    "class Mansion(House):\n",
    "    def __init__(self, address, price, rooms):\n",
    "        super().__init__(address, price)\n",
    "        self.rooms = rooms\n",
    "    def No_of_rooms(self):\n",
    "        return self.rooms\n",
    "\n",
    "house = House(\"123 Maple St\", 250000)\n",
    "mansion = Mansion(\"456 Oak Dr\", 1200000, 15)\n",
    "\n",
    "print(f\"House Address: {house.get_address()}, Price: ₹{house.get_price()}\")\n",
    "print(f\"Mansion Address: {mansion.get_address()}, Price: ₹{mansion.get_price()}, Number of Rooms: {mansion.No_of_rooms()}\")\n",
    "        "
   ]
  },
  {
   "cell_type": "code",
   "execution_count": null,
   "id": "eb8ccdee-3974-4417-b7e0-cdb6894c4447",
   "metadata": {},
   "outputs": [],
   "source": []
  }
 ],
 "metadata": {
  "kernelspec": {
   "display_name": "Python 3 (ipykernel)",
   "language": "python",
   "name": "python3"
  },
  "language_info": {
   "codemirror_mode": {
    "name": "ipython",
    "version": 3
   },
   "file_extension": ".py",
   "mimetype": "text/x-python",
   "name": "python",
   "nbconvert_exporter": "python",
   "pygments_lexer": "ipython3",
   "version": "3.12.7"
  }
 },
 "nbformat": 4,
 "nbformat_minor": 5
}
